# 安裝抓股價資料的工具（只需執行一次）
!pip install yfinance

# 引入 yfinance 套件
import yfinance as yf

# 抓取台積電（2330.TW）或 AAPL 的股價資料
ticker = yf.Ticker("2330.TW")  # 換成 "AAPL" 可看美股
hist = ticker.history(period="1mo")  # 抓最近一個月
hist.tail(3)  # 顯示最後幾筆

import yfinance as yf
import matplotlib.pyplot as plt

# 抓資料（你也可以換成 AAPL、TSLA、0050.TW 等）
ticker = yf.Ticker("2330.TW")
hist = ticker.history(period="1mo")

# 畫出收盤價趨勢圖
plt.figure(figsize=(10, 5))
plt.plot(hist.index, hist['Close'], label='收盤價', color='blue')
plt.title("2330.TW 股價趨勢圖（最近一個月）")
plt.xlabel("日期")
plt.ylabel("價格")
plt.legend()
plt.grid(True)
plt.show()
